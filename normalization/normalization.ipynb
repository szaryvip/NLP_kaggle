{
 "cells": [
  {
   "cell_type": "code",
   "execution_count": 60,
   "metadata": {},
   "outputs": [],
   "source": [
    "import numpy as np \n",
    "import csv\n",
    "import typing\n",
    "import os\n"
   ]
  },
  {
   "cell_type": "code",
   "execution_count": 61,
   "metadata": {},
   "outputs": [
    {
     "data": {
      "text/plain": [
       "array([['0', 'dupa'],\n",
       "       ['1', 'cyce'],\n",
       "       ['2', 'malpa']], dtype='<U21')"
      ]
     },
     "execution_count": 61,
     "metadata": {},
     "output_type": "execute_result"
    }
   ],
   "source": [
    "words = np.array([[0, 'dupa'], [1, 'cyce'], [2, 'malpa']])\n",
    "words"
   ]
  },
  {
   "cell_type": "code",
   "execution_count": 62,
   "metadata": {},
   "outputs": [
    {
     "data": {
      "text/plain": [
       "array([['0.0', 'dupa'],\n",
       "       ['0.4472135954999579', 'cyce'],\n",
       "       ['0.8944271909999159', 'malpa']], dtype='<U21')"
      ]
     },
     "execution_count": 62,
     "metadata": {},
     "output_type": "execute_result"
    }
   ],
   "source": [
    "norm = np.linalg.norm(words[:, 0])\n",
    "\n",
    "for i in words:\n",
    "    i[0] = float(i[0]) / norm\n",
    "\n",
    "words"
   ]
  },
  {
   "cell_type": "code",
   "execution_count": 69,
   "metadata": {},
   "outputs": [],
   "source": [
    "def normalize(words: np.ndarray, csv_path: str) -> None:\n",
    "    norm = np.linalg.norm(words[:, 0])\n",
    "    for i in words:\n",
    "        i[0] = float(i[0]) / norm\n",
    "    with open(csv_path, 'w') as new_file:\n",
    "        csv_writer = csv.writer(new_file)\n",
    "\n",
    "        for i in words:\n",
    "            csv_writer.writerow(i)"
   ]
  },
  {
   "cell_type": "code",
   "execution_count": 66,
   "metadata": {},
   "outputs": [
    {
     "data": {
      "text/plain": [
       "numpy.ndarray"
      ]
     },
     "execution_count": 66,
     "metadata": {},
     "output_type": "execute_result"
    }
   ],
   "source": [
    "type(np.array([]))"
   ]
  },
  {
   "cell_type": "code",
   "execution_count": 70,
   "metadata": {},
   "outputs": [],
   "source": [
    "normalize(words, os.path.abspath('../data/norm_test.csv'))"
   ]
  }
 ],
 "metadata": {
  "interpreter": {
   "hash": "a9c303ef8b113dab50ef843c2e816792e306778d5f966a2b7cc6646de72102bd"
  },
  "kernelspec": {
   "display_name": "Python 3.6.13 64-bit ('kaggle': conda)",
   "language": "python",
   "name": "python3"
  },
  "language_info": {
   "codemirror_mode": {
    "name": "ipython",
    "version": 3
   },
   "file_extension": ".py",
   "mimetype": "text/x-python",
   "name": "python",
   "nbconvert_exporter": "python",
   "pygments_lexer": "ipython3",
   "version": "3.6.13"
  },
  "orig_nbformat": 4
 },
 "nbformat": 4,
 "nbformat_minor": 2
}
