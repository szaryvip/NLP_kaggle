{
 "cells": [
  {
   "cell_type": "code",
   "execution_count": 98,
   "metadata": {},
   "outputs": [],
   "source": [
    "import numpy as np\n",
    "import os\n",
    "import typing\n",
    "import csv\n",
    "import sys\n",
    "from stemming import stemming\n",
    "import nltk\n",
    "from normalization import normalization\n",
    "from lemmatization import lemmatization\n",
    "import bag_of_words"
   ]
  },
  {
   "cell_type": "markdown",
   "metadata": {},
   "source": [
    "Stemming"
   ]
  },
  {
   "cell_type": "code",
   "execution_count": 99,
   "metadata": {},
   "outputs": [],
   "source": [
    "words = stemming.stem_from_csv('data/train.csv', 3)\n",
    "words = bag_of_words.create_bag_of_words(words)\n",
    "words = normalization.normalize(words)\n",
    "with open('output/stemmed.csv', 'w') as new_file:\n",
    "    csv_writer = csv.writer(new_file)\n",
    "    for i in words:\n",
    "        csv_writer.writerow(i)"
   ]
  },
  {
   "cell_type": "markdown",
   "metadata": {},
   "source": [
    "Lemmatization"
   ]
  },
  {
   "cell_type": "code",
   "execution_count": 37,
   "metadata": {},
   "outputs": [],
   "source": [
    "words = lemmatization.lemmatize_all_csv('data/train.csv')\n",
    "words = bag_of_words.create_bag_of_words(words)\n",
    "words = normalization.normalize(words)\n",
    "with open('output/lemmatized.csv', 'w') as new_file:\n",
    "        csv_writer = csv.writer(new_file)\n",
    "\n",
    "        for i in words:\n",
    "            csv_writer.writerow(i)\n"
   ]
  },
  {
   "cell_type": "markdown",
   "metadata": {},
   "source": [
    "Default\n"
   ]
  },
  {
   "cell_type": "code",
   "execution_count": 85,
   "metadata": {},
   "outputs": [],
   "source": [
    "tweets = lemmatization.read_from_csv('data/train.csv')\n",
    "words = np.array([])\n",
    "for i in tweets:\n",
    "    words = np.append(words, i.split())\n",
    "\n",
    "words = bag_of_words.create_bag_of_words(words)\n",
    "words = normalization.normalize(words)\n",
    "with open('output/default.csv', 'w') as new_file:\n",
    "        csv_writer = csv.writer(new_file)\n",
    "\n",
    "        for i in words:\n",
    "            csv_writer.writerow(i)"
   ]
  }
 ],
 "metadata": {
  "interpreter": {
   "hash": "a9c303ef8b113dab50ef843c2e816792e306778d5f966a2b7cc6646de72102bd"
  },
  "kernelspec": {
   "display_name": "Python 3.6.13 64-bit ('kaggle': conda)",
   "language": "python",
   "name": "python3"
  },
  "language_info": {
   "codemirror_mode": {
    "name": "ipython",
    "version": 3
   },
   "file_extension": ".py",
   "mimetype": "text/x-python",
   "name": "python",
   "nbconvert_exporter": "python",
   "pygments_lexer": "ipython3",
   "version": "3.6.13"
  },
  "orig_nbformat": 4
 },
 "nbformat": 4,
 "nbformat_minor": 2
}
