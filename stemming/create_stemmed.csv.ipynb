{
 "cells": [
  {
   "cell_type": "code",
   "execution_count": 37,
   "metadata": {},
   "outputs": [],
   "source": [
    "import numpy as np\n",
    "import os\n",
    "import typing\n",
    "import sys\n",
    "sys.path.insert(0, '..')\n",
    "import stemming\n",
    "from normalization import normalization\n",
    "import bag_of_words"
   ]
  },
  {
   "cell_type": "code",
   "execution_count": 2,
   "metadata": {},
   "outputs": [
    {
     "data": {
      "text/plain": [
       "array(['our', 'deed', 'are', ..., 'abc', 'new', 'http://t.co/ymy4rskq3d'],\n",
       "      dtype='<U62')"
      ]
     },
     "execution_count": 2,
     "metadata": {},
     "output_type": "execute_result"
    }
   ],
   "source": [
    "words = stemming.stem_from_csv(os.path.abspath('data/train.csv'), 3)\n",
    "words"
   ]
  },
  {
   "cell_type": "code",
   "execution_count": 33,
   "metadata": {},
   "outputs": [
    {
     "ename": "NameError",
     "evalue": "name 'words' is not defined",
     "output_type": "error",
     "traceback": [
      "\u001b[0;31m---------------------------------------------------------------------------\u001b[0m",
      "\u001b[0;31mNameError\u001b[0m                                 Traceback (most recent call last)",
      "\u001b[0;32m<ipython-input-33-b8bc784850a3>\u001b[0m in \u001b[0;36m<module>\u001b[0;34m()\u001b[0m\n\u001b[0;32m----> 1\u001b[0;31m \u001b[0mindexes\u001b[0m \u001b[0;34m=\u001b[0m \u001b[0mnp\u001b[0m\u001b[0;34m.\u001b[0m\u001b[0marange\u001b[0m\u001b[0;34m(\u001b[0m\u001b[0mwords\u001b[0m\u001b[0;34m.\u001b[0m\u001b[0msize\u001b[0m\u001b[0;34m)\u001b[0m\u001b[0;34m\u001b[0m\u001b[0;34m\u001b[0m\u001b[0m\n\u001b[0m\u001b[1;32m      2\u001b[0m \u001b[0mindexes\u001b[0m\u001b[0;34m\u001b[0m\u001b[0;34m\u001b[0m\u001b[0m\n",
      "\u001b[0;31mNameError\u001b[0m: name 'words' is not defined"
     ]
    }
   ],
   "source": [
    "indexes = np.arange(words.size)\n",
    "indexes"
   ]
  },
  {
   "cell_type": "code",
   "execution_count": 9,
   "metadata": {},
   "outputs": [
    {
     "data": {
      "text/plain": [
       "array([['0', 'our'],\n",
       "       ['1', 'deed'],\n",
       "       ['2', 'are'],\n",
       "       ...,\n",
       "       ['113458', 'abc'],\n",
       "       ['113459', 'new'],\n",
       "       ['113460', 'http://t.co/ymy4rskq3d']], dtype='<U62')"
      ]
     },
     "execution_count": 9,
     "metadata": {},
     "output_type": "execute_result"
    }
   ],
   "source": [
    "stacked_words = np.stack((indexes, words), axis=1)\n",
    "stacked_words"
   ]
  },
  {
   "cell_type": "code",
   "execution_count": 11,
   "metadata": {},
   "outputs": [],
   "source": [
    "normalization.normalize(stacked_words, 'output/stemmed.csv')"
   ]
  },
  {
   "cell_type": "code",
   "execution_count": 34,
   "metadata": {},
   "outputs": [],
   "source": [
    "def stem_normalize_from_to_csv(from_path: str, to_path: str) -> None:\n",
    "    words = stemming.stem_from_csv(from_path, 3)\n",
    "    bag_of_words.create_bag_of_words(words)\n",
    "    indexes = np.arange(words.size)\n",
    "    stacked_words = np.stack((indexes, words), axis=1)\n",
    "    normalization.normalize(stacked_words, to_path)"
   ]
  },
  {
   "cell_type": "code",
   "execution_count": 38,
   "metadata": {},
   "outputs": [],
   "source": [
    "stem_normalize_from_to_csv(os.path.abspath('../data/train.csv'), os.path.abspath('../output/stemmed.csv'))"
   ]
  }
 ],
 "metadata": {
  "interpreter": {
   "hash": "a9c303ef8b113dab50ef843c2e816792e306778d5f966a2b7cc6646de72102bd"
  },
  "kernelspec": {
   "display_name": "Python 3.6.13 64-bit ('kaggle': conda)",
   "language": "python",
   "name": "python3"
  },
  "language_info": {
   "codemirror_mode": {
    "name": "ipython",
    "version": 3
   },
   "file_extension": ".py",
   "mimetype": "text/x-python",
   "name": "python",
   "nbconvert_exporter": "python",
   "pygments_lexer": "ipython3",
   "version": "3.6.13"
  },
  "orig_nbformat": 4
 },
 "nbformat": 4,
 "nbformat_minor": 2
}
